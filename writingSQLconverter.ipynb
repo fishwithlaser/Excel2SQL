{
 "cells": [
  {
   "cell_type": "code",
   "execution_count": 352,
   "metadata": {},
   "outputs": [],
   "source": [
    "# converter of geochemical data for \"endmembers\" of specific to GHG rocks\n",
    "# author:  thomas kosciuch \n",
    "# contact: thomas@kosciuch.ca\n",
    "# affilite: University of Toronto - Earth Sciecnes\n",
    "\n",
    "\n",
    "# 1. Directory Structure\n",
    "#\n",
    "#   python code\n",
    "#           /XSLX/\n",
    "#               xlsx files\n",
    "# \n",
    "import scipy #dtypes\n",
    "import numpy as np #dtypes\n",
    "import pandas as pd\n",
    "import os as os            #checks if directories exist for file writing\n",
    "from os import listdir\n",
    "import mysql.connector\n",
    "import sqlite3\n",
    "import MySQLdb\n",
    "\n",
    "#converts to CSV\n",
    "import xlrd\n",
    "import csv\n",
    "\n",
    "\n",
    "\n",
    "####################################\n",
    "##  finds files in source folder  ##\n",
    "folder = \"XLSX\"                    #\n",
    "files = listdir(folder)            #\n",
    "path = folder + \"/\" + files[0]     #\n",
    "file = pd.ExcelFile(path)          #\n",
    "sheets = file.sheet_names          #\n",
    "                                  ## \n",
    "# loading:                     #####\n",
    "######## Convert to CSV: ###########\n",
    "destination_folder = \"csv\"\n",
    "if os.path.isdir(destination_folder) == False:\n",
    "    mkdir(destination_folder)\n",
    "\n",
    "# i had to use no header, because some are unnamed\n",
    "notKnown = pd.read_excel(file,sheets[0], header=None, keep_default_na=True)\n",
    "csvName = destination_folder + '/' + sheets[0] +'.csv'\n",
    "notKnown.to_csv(csvName, encoding='utf-8')\n",
    "notKnown = pd.read_csv(csvName, na_values=\"NaN\")\n",
    "\n",
    "minerals = pd.read_excel(file,sheets[1],  keep_default_na=True)\n",
    "csvName = destination_folder + '/' + sheets[1] +'.csv'\n",
    "minerals.to_csv(csvName, encoding='utf-8')\n",
    "minerals = pd.read_csv(csvName, na_values=\"NaN\")\n",
    "\n",
    "thermody = pd.read_excel(file,sheets[2], header=None, keep_default_na=True)\n",
    "csvName = destination_folder + '/' + sheets[2] +'.csv'\n",
    "thermody.to_csv(csvName, encoding='utf-8')\n",
    "thermody = pd.read_csv(csvName, na_values=\"NaN\")\n",
    "###################################\n",
    "# removed unnamed row in minerals #\n",
    "# minerals = minerals.loc[:, ~minerals.columns.str.contains('^Unnamed')]"
   ]
  },
  {
   "cell_type": "code",
   "execution_count": 353,
   "metadata": {
    "scrolled": false
   },
   "outputs": [
    {
     "name": "stdout",
     "output_type": "stream",
     "text": [
      "how many minerals?\n",
      "4\n",
      "what is the No. of mineral  1 ?\n",
      "57\n",
      "what is the No. of mineral  2 ?\n",
      "138\n",
      "what is the No. of mineral  3 ?\n",
      "143\n",
      "what is the No. of mineral  4 ?\n",
      "105\n"
     ]
    }
   ],
   "source": [
    "# Index\n",
    "# minerals.loc[[54]]\n",
    "\n",
    "# first we do manual entry, then we iterate:\n",
    "print(\"how many minerals?\")\n",
    "minNum = int(input())\n",
    "mins = [0] * minNum\n",
    "for i in range(minNum):\n",
    "    print(\"what is the No. of mineral \",+(i+1),\"?\")    \n",
    "    mins[i] = int(input())\n",
    "\n",
    "#converting to number sys in Excel\n",
    "mins = [x-1 for x in mins]\n"
   ]
  },
  {
   "cell_type": "code",
   "execution_count": 446,
   "metadata": {},
   "outputs": [],
   "source": [
    "minNum = 4\n",
    "mins = [57, 138, 143, 105]\n",
    "mins = [x-1 for x in mins]\n",
    "\n",
    "########### Creates definition that uploads relevant minerals\n",
    "d={} # set up empty dictionary\n",
    "# uploads water first: \n",
    "\n",
    "endmember = [0] * ( minNum + 2)\n",
    "endmember[minNum]   = 151\n",
    "endmember[minNum+1] = 152\n",
    "\n",
    "for i in range(minNum):\n",
    "    endmember[i]     = mins[i]\n",
    "    d[\"Mineral_{0}\".format(i)] = {\n",
    "        \"minrl\"      :  str(minerals.loc[mins[i],\"min_sym\"]),\n",
    "        \"min_name\"   : str(minerals.loc[mins[i],\"mineral_name\"]),\n",
    "        \"sys\"        : \"\",\n",
    "        \"endmember\"  : [mins[i]],\n",
    "        \"endnum\"     : 2,\n",
    "        \"variables\"  : [],\n",
    "        \"vari_lower\" : [],\n",
    "        \"vari_upper\" : [],\n",
    "        \"p\"          : \"@(X)X(1)\",\n",
    "        \"SiO2toCO2\"  : minerals.loc[mins[i],\"SiO2\":\"CO2\"]\n",
    "        }\n",
    "# Add water\n",
    "    d[\"Mineral_{0}\".format((minNum))] = {\n",
    "    \"minrl\"      : \"liq\",\n",
    "    \"name\"       : \"water\",\n",
    "    \"sys\"        : \"CHO\",\n",
    "    \"endmember\"  : [151],\n",
    "    \"endnum\"     : 2,\n",
    "    \"variables\"  : {'x(liq)'},\n",
    "    \"vari_lower\" : [0],\n",
    "    \"vari_upper\" : [1],\n",
    "    \"p\"          : \"@(X)X(1)\",\n",
    "    \"SiO2toCO2\"  : minerals.loc[150,\"SiO2\":\"CO2\"]\n",
    "}\n",
    "# Add CO2\n",
    "d[\"Mineral_{0}\".format((minNum+1))] = {\n",
    "    \"minrl\"      : \"liq\",\n",
    "    \"name\"       : \"CO2\",\n",
    "    \"sys\"        : \"CHO\",\n",
    "    \"endmember\"  : [152],\n",
    "    \"endnum\"     : 2,\n",
    "    \"variables\"  : {'x(liq)'},\n",
    "    \"vari_lower\" : [0],\n",
    "    \"vari_upper\" : [1],\n",
    "    \"p\"          : \"@(X)X(1)\",\n",
    "    \"SiO2toCO2\"  : minerals.loc[151,\"SiO2\":\"CO2\"]\n",
    "}\n",
    "\n",
    "#############################################################"
   ]
  },
  {
   "cell_type": "code",
   "execution_count": 444,
   "metadata": {},
   "outputs": [],
   "source": [
    "# del d\n",
    "#print(minerals.loc[[54]])\n",
    "# C = minerals.loc[mins[i],\"SiO2\":\"CO2\"]\n",
    "#print(d)\n"
   ]
  },
  {
   "cell_type": "code",
   "execution_count": 513,
   "metadata": {},
   "outputs": [],
   "source": [
    "# Starting variables\n",
    "T_min   = 200\n",
    "T_max   = 1000\n",
    "P       = 2                         # [kbar]\n",
    "res     = 101                       # resolution\n",
    "\n",
    "####################\n",
    "TRange  = [T_min, T_max]\n",
    "XCO2    = np.linspace(0,0.5, res)   # sets up plotting \n",
    "XCO2    = XCO2[1:res]               # removes final CO2 point\n",
    "Phase   = mins                      # Sets up \"Phase\" variable to mimic MatLab\n",
    "T       = [0] * res                 # creates empty matrix\n",
    "# First guess for temperature\n",
    "T_guess = (TRange[0]+TRange[1])/2   # guesses halfway between range\n",
    "Xs      = [] \n",
    "CC=['  SiO2   ','  TiO2   ',' Al2O3   ','   FeO   ','   MgO   ','   MnO   ','   CaO   ','  Na2O   ','   K2O   ','     O   ','   H2O   ','   CO2   ',' Supl1   ',' Supl2   ']\n"
   ]
  },
  {
   "cell_type": "code",
   "execution_count": 536,
   "metadata": {},
   "outputs": [],
   "source": [
    "# CALC UNI T AT P  - ITERATIVE\n",
    "# Counts the number of 'end-members' each phase has\n",
    "\n",
    "PHASE         = d\n",
    "endnum        = np.zeros(minNum+2)\n",
    "for i in range(0, minNum+2):\n",
    "    target    = 'Mineral_' +  str(i)\n",
    "    temp      = d.get(target)\n",
    "    endnum[i] = len(temp.get('endmember'))"
   ]
  },
  {
   "cell_type": "code",
   "execution_count": 533,
   "metadata": {},
   "outputs": [],
   "source": [
    "# NOW function [React,A0,C]=CalcMatrix(phase)\n",
    "\"\"\"% construct linear metamorphic reactions with the input phases.\n",
    "% =======================================\n",
    "% phase is the data-structure for solid solution models.\n",
    "% A0 is the composition matrix before Gaussian elimination\n",
    "% C is the Modal composition\"\"\"\n",
    "\n",
    "# setup empty matrix (reserve memory)\n",
    "A = np.zeros(((len(PHASE)), len(CC)))\n",
    "\n",
    "# Compositional matrix\n",
    "# Col 1: 15 = CC\n",
    "for i in range((len(PHASE))):\n",
    "    # -2 because of the 2 supplemental columns\n",
    "    for j in range(len(CC)-2):                 \n",
    "        target        = 'Mineral_' +  str(i)\n",
    "        temp          = d.get(target)\n",
    "        temp          = temp.get('SiO2toCO2')\n",
    "        A[i][j]       = int(temp[j])\n",
    "\n",
    "# Deletes zero columns\n",
    "components = []\n",
    "for i in range(len(CC)-1):\n",
    "    target = len(CC) - 1 - i\n",
    "    if sum(A[:,target]) > 0:               # Preserves present components\n",
    "        components.insert(0,(CC[target]))    \n",
    "    if sum(A[:,target]) == 0:\n",
    "        A = np.delete(A,target,1)\n",
    "\n",
    "A = [*zip(*A)]                             # Transpose. I think this helps for solving\n",
    "A0 = A                                     # Copies A\n"
   ]
  },
  {
   "cell_type": "code",
   "execution_count": 545,
   "metadata": {},
   "outputs": [
    {
     "data": {
      "text/plain": [
       "[(8.0, 0.0, 0.0, 1.0, 0.0, 0.0),\n",
       " (5.0, 0.0, 1.0, 0.0, 0.0, 0.0),\n",
       " (2.0, 1.0, 1.0, 0.0, 0.0, 0.0),\n",
       " (1.0, 0.0, 0.0, 0.0, 1.0, 0.0),\n",
       " (0.0, 1.0, 2.0, 0.0, 0.0, 1.0)]"
      ]
     },
     "execution_count": 545,
     "metadata": {},
     "output_type": "execute_result"
    }
   ],
   "source": [
    "A"
   ]
  },
  {
   "cell_type": "code",
   "execution_count": null,
   "metadata": {},
   "outputs": [],
   "source": []
  },
  {
   "cell_type": "code",
   "execution_count": null,
   "metadata": {},
   "outputs": [],
   "source": []
  },
  {
   "cell_type": "code",
   "execution_count": null,
   "metadata": {},
   "outputs": [],
   "source": [
    "if(dtype(agg[y]) == 'string'):"
   ]
  },
  {
   "cell_type": "code",
   "execution_count": 28,
   "metadata": {},
   "outputs": [
    {
     "ename": "SyntaxError",
     "evalue": "invalid syntax (<ipython-input-28-9cb66b75d9f3>, line 13)",
     "output_type": "error",
     "traceback": [
      "\u001b[0;36m  File \u001b[0;32m\"<ipython-input-28-9cb66b75d9f3>\"\u001b[0;36m, line \u001b[0;32m13\u001b[0m\n\u001b[0;31m    print \"SQLite version: {}\".format(data)\u001b[0m\n\u001b[0m                             ^\u001b[0m\n\u001b[0;31mSyntaxError\u001b[0m\u001b[0;31m:\u001b[0m invalid syntax\n"
     ]
    }
   ],
   "source": [
    "import sys\n",
    "\n",
    "con = None\n",
    "\n",
    "try:\n",
    "    con = sqlite3.connect('test.db')\n",
    "\n",
    "    cur = con.cursor()\n",
    "    cur.execute('SELECT SQLITE_VERSION()')\n",
    "\n",
    "    data = cur.fetchone()\n",
    "\n",
    "    print \"SQLite version: {}\".format(data)\n",
    "\n",
    "except sqlite3.Error, e:\n",
    "\n",
    "    print \"Error {}:\".format(e.args[0])\n",
    "    sys.exit(1)\n",
    "\n",
    "finally:\n",
    "\n",
    "    if con:\n",
    "        con.close()  \n",
    "                     "
   ]
  },
  {
   "cell_type": "code",
   "execution_count": 6,
   "metadata": {},
   "outputs": [],
   "source": [
    "# 1. create sql struct per file\n",
    "\n",
    "def create_connection(db_file):\n",
    "    \"\"\" create a database connection to a SQLite database \"\"\"\n",
    "    try:\n",
    "        conn = sqlite3.connect(db_file)\n",
    "        print(sqlite3.version)\n",
    "    except Error as e:\n",
    "        print(e)\n",
    "    finally:\n",
    "        conn.close()\n"
   ]
  },
  {
   "cell_type": "code",
   "execution_count": null,
   "metadata": {},
   "outputs": [],
   "source": [
    "conn = sqlite3.connect('mineralEndmembers.db')\n",
    "c = conn.cursor()\n",
    "# Create table\n",
    "c.execute('''CREATE TABLE stocks\n",
    "             (date text, trans text, symbol text, qty real, price real)''')\n",
    "\n",
    "# Insert a row of data\n",
    "c.execute(\"INSERT INTO stocks VALUES ('2006-01-05','BUY','RHAT',100,35.14)\")\n",
    "\n",
    "# Save (commit) the changes\n",
    "conn.commit()\n",
    "conn.close()"
   ]
  },
  {
   "cell_type": "code",
   "execution_count": null,
   "metadata": {},
   "outputs": [],
   "source": [
    "variable = [\"a\", \"b\"]\n",
    "len(variable)"
   ]
  },
  {
   "cell_type": "code",
   "execution_count": null,
   "metadata": {},
   "outputs": [],
   "source": [
    "# f= open(\"guru99.txt\",\"w+\")"
   ]
  },
  {
   "cell_type": "code",
   "execution_count": null,
   "metadata": {},
   "outputs": [],
   "source": []
  },
  {
   "cell_type": "code",
   "execution_count": null,
   "metadata": {},
   "outputs": [],
   "source": []
  }
 ],
 "metadata": {
  "kernelspec": {
   "display_name": "Python 3",
   "language": "python",
   "name": "python3"
  },
  "language_info": {
   "codemirror_mode": {
    "name": "ipython",
    "version": 3
   },
   "file_extension": ".py",
   "mimetype": "text/x-python",
   "name": "python",
   "nbconvert_exporter": "python",
   "pygments_lexer": "ipython3",
   "version": "3.7.1"
  }
 },
 "nbformat": 4,
 "nbformat_minor": 2
}
