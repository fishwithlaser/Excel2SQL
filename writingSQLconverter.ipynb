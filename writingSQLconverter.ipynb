{
 "cells": [
  {
   "cell_type": "code",
   "execution_count": 1,
   "metadata": {},
   "outputs": [],
   "source": [
    "# converter of geochemical data for \"endmembers\" of specific to GHG rocks\n",
    "# author:  thomas kosciuch \n",
    "# contact: thomas@kosciuch.ca\n",
    "# affilite: University of Toronto - Earth Sciecnes\n",
    "\n",
    "\n",
    "# 1. Directory Structure\n",
    "#\n",
    "#   python code\n",
    "#           /XSLX/\n",
    "#               xlsx files\n",
    "# \n",
    "import scipy #dtypes\n",
    "import numpy as np #dtypes\n",
    "import pandas as pd\n",
    "import os as os            #checks if directories exist for file writing\n",
    "import mysql.connector\n",
    "\n",
    "from numpy import linalg\n",
    "import sys\n",
    "\n",
    "#converts to CSV\n",
    "import xlrd\n",
    "import csv\n",
    "\n",
    "## Custom packages \n",
    "sys.path.append(os.path.join(sys.path[0],'mods'))\n",
    "\n",
    "import metamathicCalc as calc\n",
    "import loader as loader\n",
    "import matrixOps as Ops\n",
    "\n",
    "#loads inputs / database \n",
    "notKnown, minerals, thermody = loader.load() "
   ]
  },
  {
   "cell_type": "code",
   "execution_count": 2,
   "metadata": {},
   "outputs": [
    {
     "name": "stdout",
     "output_type": "stream",
     "text": [
      "how many minerals?\n",
      "0\n"
     ]
    }
   ],
   "source": [
    "# Index ## mineral selection\n",
    "# minerals.loc[[54]]\n",
    "\n",
    "# first we do manual entry, then we iterate:\n",
    "print(\"how many minerals?\")\n",
    "minNum = int(input())\n",
    "mins = [0] * minNum\n",
    "for i in range(minNum):\n",
    "    print(\"what is the No. of mineral \",+(i+1),\"?\")    \n",
    "    mins[i] = int(input())\n",
    "\n",
    "#converting to number sys in Excel\n",
    "mins = [x-1 for x in mins]\n"
   ]
  },
  {
   "cell_type": "code",
   "execution_count": 3,
   "metadata": {},
   "outputs": [],
   "source": [
    "mins = [57, 138, 143, 105]\n",
    "minNum = len(mins)\n",
    "d = loader.minerals(mins, minerals)"
   ]
  },
  {
   "cell_type": "code",
   "execution_count": null,
   "metadata": {},
   "outputs": [],
   "source": []
  },
  {
   "cell_type": "code",
   "execution_count": null,
   "metadata": {
    "scrolled": false
   },
   "outputs": [],
   "source": []
  },
  {
   "cell_type": "code",
   "execution_count": null,
   "metadata": {},
   "outputs": [],
   "source": [
    "\n"
   ]
  },
  {
   "cell_type": "code",
   "execution_count": 4,
   "metadata": {},
   "outputs": [
    {
     "data": {
      "text/plain": [
       "[57, 138, 143, 105]"
      ]
     },
     "execution_count": 4,
     "metadata": {},
     "output_type": "execute_result"
    }
   ],
   "source": [
    "mins"
   ]
  },
  {
   "cell_type": "code",
   "execution_count": null,
   "metadata": {},
   "outputs": [],
   "source": []
  },
  {
   "cell_type": "code",
   "execution_count": 5,
   "metadata": {},
   "outputs": [],
   "source": [
    "# Initial Conditions\n",
    "T_min   = 200\n",
    "T_max   = 1000\n",
    "P       = 2                         # [kbar]\n",
    "res     = 101                       # resolution\n",
    "TRange  = [T_min, T_max]\n",
    "XCO2    = np.linspace(0,0.5, res)   # sets up plotting \n",
    "XCO2    = XCO2[1:res]               # removes final CO2 point\n",
    "Phase   = mins                      # Sets up \"Phase\" variable to mimic MatLab\n",
    "T       = [0] * res                 # creates empty matrix\n",
    "# First guess for temperature\n",
    "T_guess = (TRange[0]+TRange[1])/2   # guesses halfway between range\n",
    "Xs      = [] \n",
    "CC=['  SiO2   ','  TiO2   ',' Al2O3   ','   FeO   ','   MgO   ','   MnO   ','   CaO   ','  Na2O   ','   K2O   ','     O   ','   H2O   ','   CO2   ',' Supl1   ',' Supl2   ']\n"
   ]
  },
  {
   "cell_type": "code",
   "execution_count": 6,
   "metadata": {},
   "outputs": [],
   "source": [
    "# CALC UNI T AT P  - ITERATIVE\n",
    "# Counts the number of 'end-members' each phase has\n",
    "\n",
    "PHASE         = d\n",
    "endnum        = np.zeros(minNum+2)\n",
    "for i in range(0, minNum+2):\n",
    "    target    = 'Mineral_' +  str(i)\n",
    "    temp      = d.get(target)\n",
    "    endnum[i] = len(temp.get('endmember'))"
   ]
  },
  {
   "cell_type": "code",
   "execution_count": 8,
   "metadata": {},
   "outputs": [
    {
     "data": {
      "text/plain": [
       "array([[8., 5., 2., 1., 0.],\n",
       "       [0., 0., 1., 0., 1.],\n",
       "       [0., 1., 1., 0., 2.],\n",
       "       [1., 0., 0., 0., 0.],\n",
       "       [0., 0., 0., 1., 0.],\n",
       "       [0., 0., 0., 0., 1.]])"
      ]
     },
     "execution_count": 8,
     "metadata": {},
     "output_type": "execute_result"
    }
   ],
   "source": [
    "A = Ops.compress(d, PHASE, CC)\n"
   ]
  },
  {
   "cell_type": "code",
   "execution_count": 22,
   "metadata": {},
   "outputs": [
    {
     "name": "stdout",
     "output_type": "stream",
     "text": [
      "[[8. 5. 2. 1. 0.]\n",
      " [0. 0. 1. 0. 1.]\n",
      " [0. 1. 1. 0. 2.]\n",
      " [1. 0. 0. 0. 0.]\n",
      " [0. 0. 0. 1. 0.]\n",
      " [0. 0. 0. 0. 1.]] [[1, 2, -1, -4], [2, 3, -1, -11], [-2, 0, -3, 22]]\n"
     ]
    },
    {
     "ename": "ValueError",
     "evalue": "The truth value of an array with more than one element is ambiguous. Use a.any() or a.all()",
     "output_type": "error",
     "traceback": [
      "\u001b[0;31m---------------------------------------------------------------------------\u001b[0m",
      "\u001b[0;31mValueError\u001b[0m                                Traceback (most recent call last)",
      "\u001b[0;32m<ipython-input-22-18f7ad45b902>\u001b[0m in \u001b[0;36m<module>\u001b[0;34m\u001b[0m\n\u001b[1;32m     31\u001b[0m \u001b[0;34m\u001b[0m\u001b[0m\n\u001b[1;32m     32\u001b[0m \u001b[0mprint\u001b[0m\u001b[0;34m(\u001b[0m\u001b[0mA\u001b[0m\u001b[0;34m,\u001b[0m \u001b[0mmtx\u001b[0m\u001b[0;34m)\u001b[0m\u001b[0;34m\u001b[0m\u001b[0;34m\u001b[0m\u001b[0m\n\u001b[0;32m---> 33\u001b[0;31m \u001b[0mToReducedRowEchelonForm\u001b[0m\u001b[0;34m(\u001b[0m \u001b[0mA\u001b[0m \u001b[0;34m)\u001b[0m\u001b[0;34m\u001b[0m\u001b[0;34m\u001b[0m\u001b[0m\n\u001b[0m\u001b[1;32m     34\u001b[0m \u001b[0;34m\u001b[0m\u001b[0m\n",
      "\u001b[0;32m<ipython-input-22-18f7ad45b902>\u001b[0m in \u001b[0;36mToReducedRowEchelonForm\u001b[0;34m(M)\u001b[0m\n\u001b[1;32m      1\u001b[0m \u001b[0;32mdef\u001b[0m \u001b[0mToReducedRowEchelonForm\u001b[0m\u001b[0;34m(\u001b[0m \u001b[0mM\u001b[0m\u001b[0;34m)\u001b[0m\u001b[0;34m:\u001b[0m\u001b[0;34m\u001b[0m\u001b[0;34m\u001b[0m\u001b[0m\n\u001b[0;32m----> 2\u001b[0;31m     \u001b[0;32mif\u001b[0m \u001b[0;32mnot\u001b[0m \u001b[0mM\u001b[0m\u001b[0;34m:\u001b[0m \u001b[0;32mreturn\u001b[0m\u001b[0;34m\u001b[0m\u001b[0;34m\u001b[0m\u001b[0m\n\u001b[0m\u001b[1;32m      3\u001b[0m     \u001b[0mlead\u001b[0m \u001b[0;34m=\u001b[0m \u001b[0;36m0\u001b[0m\u001b[0;34m\u001b[0m\u001b[0;34m\u001b[0m\u001b[0m\n\u001b[1;32m      4\u001b[0m     \u001b[0mrowCount\u001b[0m \u001b[0;34m=\u001b[0m \u001b[0mlen\u001b[0m\u001b[0;34m(\u001b[0m\u001b[0mM\u001b[0m\u001b[0;34m)\u001b[0m\u001b[0;34m\u001b[0m\u001b[0;34m\u001b[0m\u001b[0m\n\u001b[1;32m      5\u001b[0m     \u001b[0mcolumnCount\u001b[0m \u001b[0;34m=\u001b[0m \u001b[0mlen\u001b[0m\u001b[0;34m(\u001b[0m\u001b[0mM\u001b[0m\u001b[0;34m[\u001b[0m\u001b[0;36m0\u001b[0m\u001b[0;34m]\u001b[0m\u001b[0;34m)\u001b[0m\u001b[0;34m\u001b[0m\u001b[0;34m\u001b[0m\u001b[0m\n",
      "\u001b[0;31mValueError\u001b[0m: The truth value of an array with more than one element is ambiguous. Use a.any() or a.all()"
     ]
    }
   ],
   "source": [
    "def ToReducedRowEchelonForm( M):\n",
    "    if not M: return\n",
    "    lead = 0\n",
    "    rowCount = len(M)\n",
    "    columnCount = len(M[0])\n",
    "    for r in range(rowCount):\n",
    "        if lead >= columnCount:\n",
    "            return\n",
    "        i = r\n",
    "        while M[i][lead] == 0:\n",
    "            i += 1\n",
    "            if i == rowCount:\n",
    "                i = r\n",
    "                lead += 1\n",
    "                if columnCount == lead:\n",
    "                    return\n",
    "        M[i],M[r] = M[r],M[i]\n",
    "        lv = M[r][lead]\n",
    "        M[r] = [ mrx / float(lv) for mrx in M[r]]\n",
    "        for i in range(rowCount):\n",
    "            if i != r:\n",
    "                lv = M[i][lead]\n",
    "                M[i] = [ iv - lv*rv for rv,iv in zip(M[r],M[i])]\n",
    "        lead += 1\n",
    " \n",
    " \n",
    "mtx = [\n",
    "   [ 1, 2, -1, -4],\n",
    "   [ 2, 3, -1, -11],\n",
    "   [-2, 0, -3, 22],]\n",
    " \n",
    "print(A, mtx)\n",
    "ToReducedRowEchelonForm( A )\n",
    "\n"
   ]
  },
  {
   "cell_type": "code",
   "execution_count": 27,
   "metadata": {},
   "outputs": [
    {
     "name": "stdout",
     "output_type": "stream",
     "text": [
      "compenents present:    MgO   \n",
      "compenents present:    CaO   \n",
      "compenents present:    H2O   \n",
      "compenents present:    CO2   \n"
     ]
    }
   ],
   "source": [
    "# NOW function [React,A0,C]=CalcMatrix(phase)\n",
    "\"\"\"% construct linear metamorphic reactions with the input phases.\n",
    "% =======================================\n",
    "% phase is the data-structure for solid solution models.\n",
    "% A0 is the composition matrix before Gaussian elimination\n",
    "% C is the Modal composition\"\"\"\n",
    "\n",
    "# setup empty matrix (reserve memory):\n",
    "A                       = np.zeros(((len(PHASE)), len(CC)))\n",
    "minPres                 = []                    # min names\n",
    "\n",
    "# Compositional matrix\n",
    "# Col 1: 15 = CC\n",
    "for i in range((len(PHASE))):\n",
    "    for j in range(len(CC)-2):                  # -2 b/c of H2O+CO2\n",
    "        target          = 'Mineral_' +  str(i)\n",
    "        temp            = d.get(target)\n",
    "        temp            = temp.get('SiO2toCO2')\n",
    "        A[i][j]         = int(temp[j])\n",
    "        temp            = d.get(target)\n",
    "        temp            = temp.get('min_name')\n",
    "    minPres.append(temp)                        # tracking mins\n",
    "\n",
    "# Deletes zero columns\n",
    "components = []\n",
    "for i in range(len(CC)-1):\n",
    "    target = len(CC) - 1 - i\n",
    "    if sum(A[:,target]) > 0:               # Preserves present components\n",
    "        components.insert(0,(CC[target]))    \n",
    "    if sum(A[:,target]) == 0:\n",
    "        A = np.delete(A,target,1)\n",
    "\n",
    "A = [*zip(*A)]                             # Transpose. I think this helps for solving\n",
    "A0 = A                                     # Copies A\n",
    "\n",
    "for i in range(len(components)):\n",
    "    print(\"compenents present: \" + components[i])\n",
    "    "
   ]
  },
  {
   "cell_type": "code",
   "execution_count": 12,
   "metadata": {},
   "outputs": [],
   "source": [
    "b = [0, 0, 0, 0, 0]\n",
    "ASOLVE = A\n",
    "#ASOLVE = np.delete(ASOLVE,2,1)\n",
    "#print(ASOLVE)\n",
    "#np.linalg.solve(ASOLVE,b)"
   ]
  },
  {
   "cell_type": "code",
   "execution_count": 28,
   "metadata": {},
   "outputs": [
    {
     "data": {
      "text/plain": [
       "['carbonDioxide', 'tremolite', 'calcite', 'dolomite', 'quartz', 'Water']"
      ]
     },
     "execution_count": 28,
     "metadata": {},
     "output_type": "execute_result"
    }
   ],
   "source": [
    " minPres"
   ]
  },
  {
   "cell_type": "code",
   "execution_count": null,
   "metadata": {},
   "outputs": [],
   "source": []
  },
  {
   "cell_type": "code",
   "execution_count": null,
   "metadata": {},
   "outputs": [],
   "source": [
    "if(dtype(agg[y]) == 'string'):"
   ]
  },
  {
   "cell_type": "code",
   "execution_count": 28,
   "metadata": {},
   "outputs": [
    {
     "ename": "SyntaxError",
     "evalue": "invalid syntax (<ipython-input-28-9cb66b75d9f3>, line 13)",
     "output_type": "error",
     "traceback": [
      "\u001b[0;36m  File \u001b[0;32m\"<ipython-input-28-9cb66b75d9f3>\"\u001b[0;36m, line \u001b[0;32m13\u001b[0m\n\u001b[0;31m    print \"SQLite version: {}\".format(data)\u001b[0m\n\u001b[0m                             ^\u001b[0m\n\u001b[0;31mSyntaxError\u001b[0m\u001b[0;31m:\u001b[0m invalid syntax\n"
     ]
    }
   ],
   "source": [
    "import sys\n",
    "\n",
    "con = None\n",
    "\n",
    "try:\n",
    "    con = sqlite3.connect('test.db')\n",
    "\n",
    "    cur = con.cursor()\n",
    "    cur.execute('SELECT SQLITE_VERSION()')\n",
    "\n",
    "    data = cur.fetchone()\n",
    "\n",
    "    print \"SQLite version: {}\".format(data)\n",
    "\n",
    "except sqlite3.Error, e:\n",
    "\n",
    "    print \"Error {}:\".format(e.args[0])\n",
    "    sys.exit(1)\n",
    "\n",
    "finally:\n",
    "\n",
    "    if con:\n",
    "        con.close()  \n",
    "                     "
   ]
  },
  {
   "cell_type": "code",
   "execution_count": 6,
   "metadata": {},
   "outputs": [],
   "source": [
    "# 1. create sql struct per file\n",
    "\n",
    "def create_connection(db_file):\n",
    "    \"\"\" create a database connection to a SQLite database \"\"\"\n",
    "    try:\n",
    "        conn = sqlite3.connect(db_file)\n",
    "        print(sqlite3.version)\n",
    "    except Error as e:\n",
    "        print(e)\n",
    "    finally:\n",
    "        conn.close()\n"
   ]
  },
  {
   "cell_type": "code",
   "execution_count": null,
   "metadata": {},
   "outputs": [],
   "source": [
    "conn = sqlite3.connect('mineralEndmembers.db')\n",
    "c = conn.cursor()\n",
    "# Create table\n",
    "c.execute('''CREATE TABLE stocks\n",
    "             (date text, trans text, symbol text, qty real, price real)''')\n",
    "\n",
    "# Insert a row of data\n",
    "c.execute(\"INSERT INTO stocks VALUES ('2006-01-05','BUY','RHAT',100,35.14)\")\n",
    "\n",
    "# Save (commit) the changes\n",
    "conn.commit()\n",
    "conn.close()"
   ]
  },
  {
   "cell_type": "code",
   "execution_count": null,
   "metadata": {},
   "outputs": [],
   "source": [
    "variable = [\"a\", \"b\"]\n",
    "len(variable)"
   ]
  },
  {
   "cell_type": "code",
   "execution_count": null,
   "metadata": {},
   "outputs": [],
   "source": [
    "# f= open(\"guru99.txt\",\"w+\")"
   ]
  },
  {
   "cell_type": "code",
   "execution_count": 30,
   "metadata": {},
   "outputs": [
    {
     "data": {
      "text/plain": [
       "[56, 137, 142, 104]"
      ]
     },
     "execution_count": 30,
     "metadata": {},
     "output_type": "execute_result"
    }
   ],
   "source": [
    " "
   ]
  },
  {
   "cell_type": "code",
   "execution_count": 27,
   "metadata": {},
   "outputs": [],
   "source": [
    " \n",
    "mtx = [ \n",
    "   [ 1, 2, -1, -4],\n",
    "   [ 2, 3, -1, -11],\n",
    "   [-2, 0, -3, 22],]"
   ]
  },
  {
   "cell_type": "code",
   "execution_count": 25,
   "metadata": {},
   "outputs": [],
   "source": [
    "calc.rref(mtx)\n",
    "#for rw in mtx:\n",
    "#    print ', '.join( (str(rv) for rv in rw) )"
   ]
  },
  {
   "cell_type": "code",
   "execution_count": 22,
   "metadata": {},
   "outputs": [
    {
     "name": "stdout",
     "output_type": "stream",
     "text": [
      "None\n"
     ]
    }
   ],
   "source": [
    "print(calc.rref(mtx))  # reduced row echalon"
   ]
  },
  {
   "cell_type": "code",
   "execution_count": 28,
   "metadata": {},
   "outputs": [
    {
     "data": {
      "text/plain": [
       "[[1, 2, -1, -4], [2, 3, -1, -11], [-2, 0, -3, 22]]"
      ]
     },
     "execution_count": 28,
     "metadata": {},
     "output_type": "execute_result"
    }
   ],
   "source": [
    "mtx"
   ]
  },
  {
   "cell_type": "code",
   "execution_count": null,
   "metadata": {},
   "outputs": [],
   "source": []
  }
 ],
 "metadata": {
  "kernelspec": {
   "display_name": "Python 3",
   "language": "python",
   "name": "python3"
  },
  "language_info": {
   "codemirror_mode": {
    "name": "ipython",
    "version": 3
   },
   "file_extension": ".py",
   "mimetype": "text/x-python",
   "name": "python",
   "nbconvert_exporter": "python",
   "pygments_lexer": "ipython3",
   "version": "3.7.1"
  }
 },
 "nbformat": 4,
 "nbformat_minor": 2
}
