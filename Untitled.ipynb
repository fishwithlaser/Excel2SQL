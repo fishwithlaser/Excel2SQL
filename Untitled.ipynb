{
 "cells": [
  {
   "cell_type": "code",
   "execution_count": 2,
   "metadata": {},
   "outputs": [],
   "source": []
  },
  {
   "cell_type": "code",
   "execution_count": 3,
   "metadata": {},
   "outputs": [
    {
     "data": {
      "text/plain": [
       "13"
      ]
     },
     "execution_count": 3,
     "metadata": {},
     "output_type": "execute_result"
    }
   ],
   "source": []
  },
  {
   "cell_type": "code",
   "execution_count": 109,
   "metadata": {},
   "outputs": [],
   "source": [
    "from random import randint\n",
    "array = [49, 8, 48, 15, 47, 4, 16, 23, 43, 44, 42, 45, 46]\n",
    "length = len(array)\n",
    "new_len = 6\n",
    "\n",
    "itr = 10000000\n",
    "ans =  [0] * (itr)\n",
    "temp = [0] * (new_len)\n",
    "\n",
    "for i in range(itr):\n",
    "    for j in range(new_len):\n",
    "        rand = randint(0, len(array)-1)\n",
    "        temp[j] = array[rand]\n",
    "    ans[i] = min(temp)\n",
    "\n",
    "count4  = 0\n",
    "count8  = 0\n",
    "count15 = 0\n",
    "count16 = 0\n",
    "count23 = 0\n",
    "count43 = 0\n",
    "\n",
    "for i in range(itr):\n",
    "    if ans[i] == 4:\n",
    "        count4 = count4 + 1\n",
    "    if ans[i] == 8:\n",
    "        count8 = count8 + 1\n",
    "    if ans[i] == 15:\n",
    "        count15 = count15 + 1\n",
    "    if ans[i] == 16:\n",
    "        count16 = count16 + 1\n",
    "    if ans[i] == 23:\n",
    "        count23 = count23 + 1\n",
    "    if ans[i] == 43:\n",
    "        count43 = count43 + 1"
   ]
  },
  {
   "cell_type": "code",
   "execution_count": 110,
   "metadata": {},
   "outputs": [
    {
     "name": "stdout",
     "output_type": "stream",
     "text": [
      "3815064 2515101 1599479 971468 556333 147076\n"
     ]
    }
   ],
   "source": [
    "print(count4, count8, count15, count16, count23, count43)"
   ]
  },
  {
   "cell_type": "code",
   "execution_count": null,
   "metadata": {},
   "outputs": [],
   "source": [
    "\n"
   ]
  },
  {
   "cell_type": "code",
   "execution_count": null,
   "metadata": {},
   "outputs": [],
   "source": []
  }
 ],
 "metadata": {
  "kernelspec": {
   "display_name": "Python 3",
   "language": "python",
   "name": "python3"
  },
  "language_info": {
   "codemirror_mode": {
    "name": "ipython",
    "version": 3
   },
   "file_extension": ".py",
   "mimetype": "text/x-python",
   "name": "python",
   "nbconvert_exporter": "python",
   "pygments_lexer": "ipython3",
   "version": "3.7.1"
  }
 },
 "nbformat": 4,
 "nbformat_minor": 2
}
